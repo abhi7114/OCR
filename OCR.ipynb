{
 "cells": [
  {
   "cell_type": "markdown",
   "id": "8b43dd31",
   "metadata": {},
   "source": [
    "# Optical Character Recognition using pytesseract"
   ]
  },
  {
   "cell_type": "markdown",
   "id": "30bef358",
   "metadata": {},
   "source": [
    "### Import libraries"
   ]
  },
  {
   "cell_type": "code",
   "execution_count": 1,
   "id": "f7df648f",
   "metadata": {},
   "outputs": [],
   "source": [
    "#pip install langdetect"
   ]
  },
  {
   "cell_type": "code",
   "execution_count": 2,
   "id": "3e10a3b9",
   "metadata": {},
   "outputs": [],
   "source": [
    "import cv2 \n",
    "import pytesseract\n",
    "from pytesseract import Output"
   ]
  },
  {
   "cell_type": "code",
   "execution_count": 3,
   "id": "ad8a0491",
   "metadata": {},
   "outputs": [],
   "source": [
    "pytesseract.pytesseract.tesseract_cmd = r'C:\\Program Files\\Tesseract-OCR\\tesseract.exe'"
   ]
  },
  {
   "cell_type": "code",
   "execution_count": 4,
   "id": "2d706852",
   "metadata": {},
   "outputs": [
    {
     "data": {
      "text/plain": [
       "<module 'pytesseract' from 'C:\\\\Users\\\\LENOVO\\\\anaconda3\\\\lib\\\\site-packages\\\\pytesseract\\\\__init__.py'>"
      ]
     },
     "execution_count": 4,
     "metadata": {},
     "output_type": "execute_result"
    }
   ],
   "source": [
    "pytesseract"
   ]
  },
  {
   "cell_type": "code",
   "execution_count": 5,
   "id": "8166bcae",
   "metadata": {},
   "outputs": [
    {
     "data": {
      "text/plain": [
       "'This is the first line of this text example.  This is the second line of the same text. '"
      ]
     },
     "execution_count": 5,
     "metadata": {},
     "output_type": "execute_result"
    }
   ],
   "source": [
    "img = cv2.imread('sample.png')\n",
    "\n",
    "custom_config = r'--oem 3 --psm 6'\n",
    "pytesseract.image_to_string(img, config=custom_config).replace('\\n', ' ')"
   ]
  },
  {
   "cell_type": "markdown",
   "id": "667603c9",
   "metadata": {},
   "source": [
    "### Preprocessing for tesseract"
   ]
  },
  {
   "cell_type": "code",
   "execution_count": 6,
   "id": "e9871003",
   "metadata": {},
   "outputs": [],
   "source": [
    "import numpy as np\n",
    "\n",
    "img=cv2.imread('img.jpg')\n",
    "\n",
    "#grayscale img\n",
    "def get_grayscale(image):\n",
    "    return cv2.cvtColor(image,cv2.COLOR_BGR2GRAY)\n",
    "\n",
    "#noise removal\n",
    "def thresholding(image):\n",
    "    return cv2.threshold(image,0,255,cv2.THRESH_BINARY+cv2.THRESH_OTSU)[1]\n",
    "\n",
    "#dilation\n",
    "def dilate(image):\n",
    "    kernel = np.ones((5,5),np.uint8)\n",
    "    return cv2.dilate(image, kernel, iterations = 1)\n",
    "    \n",
    "#erosion\n",
    "def erode(image):\n",
    "    kernel = np.ones((5,5),np.uint8)\n",
    "    return cv2.erode(image, kernel, iterations = 1)\n",
    "\n",
    "#opening - erosion followed by dilation\n",
    "def opening(image):\n",
    "    kernel = np.ones((5,5),np.uint8)\n",
    "    return cv2.morphologyEx(image, cv2.MORPH_OPEN, kernel)\n",
    "\n",
    "#canny edge detection\n",
    "def canny(image):\n",
    "    return cv2.Canny(image, 100, 200)\n",
    "\n",
    "#skew correction\n",
    "def deskew(image):\n",
    "    coords = np.column_stack(np.where(image > 0))\n",
    "    angle = cv2.minAreaRect(coords)[-1]\n",
    "    if angle < -45:\n",
    "        angle = -(90 + angle)\n",
    "    else:\n",
    "        angle = -angle\n",
    "    (h, w) = image.shape[:2]\n",
    "    center = (w // 2, h // 2)\n",
    "    M = cv2.getRotationMatrix2D(center, angle, 1.0)\n",
    "    rotated = cv2.warpAffine(image, M, (w, h), flags=cv2.INTER_CUBIC, borderMode=cv2.BORDER_REPLICATE)\n",
    "    return rotated\n",
    "\n",
    "#template matching\n",
    "def match_template(image, template):\n",
    "    return cv2.matchTemplate(image, template, cv2.TM_CCOEFF_NORMED) "
   ]
  },
  {
   "cell_type": "code",
   "execution_count": 7,
   "id": "a39c0060",
   "metadata": {},
   "outputs": [],
   "source": [
    "image = cv2.imread('abcd.jpg')\n",
    "\n",
    "gray = get_grayscale(image)\n",
    "thresh = thresholding(gray)\n",
    "opening = opening(gray)\n",
    "canny = canny(gray)"
   ]
  },
  {
   "cell_type": "code",
   "execution_count": 8,
   "id": "5ad93c0b",
   "metadata": {},
   "outputs": [
    {
     "data": {
      "text/plain": [
       "\"ABCDEFGHIJKLM NOPQRSTUVWXYZ abcdefghijklm nopaqrstuvwxyz 01234567849 'DQ#SZAR*() \""
      ]
     },
     "execution_count": 8,
     "metadata": {},
     "output_type": "execute_result"
    }
   ],
   "source": [
    "pytesseract.image_to_string(gray).replace('\\n', ' ')"
   ]
  },
  {
   "cell_type": "code",
   "execution_count": 9,
   "id": "83685326",
   "metadata": {},
   "outputs": [
    {
     "data": {
      "text/plain": [
       "'ABCDEFGHIJKLM NOPQRSTUVUXYZ abcdef ghijklm nopqrstuvwxyz O1234567849 TDHSZAR*C) '"
      ]
     },
     "execution_count": 9,
     "metadata": {},
     "output_type": "execute_result"
    }
   ],
   "source": [
    "pytesseract.image_to_string(thresh).replace('\\n', ' ')"
   ]
  },
  {
   "cell_type": "code",
   "execution_count": 10,
   "id": "2fd354d4",
   "metadata": {},
   "outputs": [
    {
     "data": {
      "text/plain": [
       "'ABCDEFGHIJKLM NOP@RSTUVEXYZ abcdefghijkla nopqrstuvwexyz 014234567449 !eeexaax() '"
      ]
     },
     "execution_count": 10,
     "metadata": {},
     "output_type": "execute_result"
    }
   ],
   "source": [
    "pytesseract.image_to_string(opening).replace('\\n', ' ')"
   ]
  },
  {
   "cell_type": "code",
   "execution_count": 11,
   "id": "3f876c0f",
   "metadata": {},
   "outputs": [
    {
     "data": {
      "text/plain": [
       "'ABCDEFGHIJKLM NOPA@RSTUVUXYZ abcdef ghijklm nopgrstuvuxyz GLe34Sb789 LMIFSZAR% CD '"
      ]
     },
     "execution_count": 11,
     "metadata": {},
     "output_type": "execute_result"
    }
   ],
   "source": [
    "pytesseract.image_to_string(canny).replace('\\n', ' ')"
   ]
  },
  {
   "cell_type": "markdown",
   "id": "11825c79",
   "metadata": {},
   "source": [
    "### Boxes around texts"
   ]
  },
  {
   "cell_type": "code",
   "execution_count": 12,
   "id": "4680f718",
   "metadata": {
    "scrolled": true
   },
   "outputs": [
    {
     "name": "stdout",
     "output_type": "stream",
     "text": [
      "dict_keys(['level', 'page_num', 'block_num', 'par_num', 'line_num', 'word_num', 'left', 'top', 'width', 'height', 'conf', 'text'])\n"
     ]
    }
   ],
   "source": [
    "img = cv2.imread('sample.png')\n",
    "\n",
    "d = pytesseract.image_to_data(img, output_type=Output.DICT)\n",
    "print(d.keys())"
   ]
  },
  {
   "cell_type": "code",
   "execution_count": 13,
   "id": "0f76d163",
   "metadata": {},
   "outputs": [
    {
     "data": {
      "text/plain": [
       "107"
      ]
     },
     "execution_count": 13,
     "metadata": {},
     "output_type": "execute_result"
    }
   ],
   "source": [
    "n_boxes = len(d['text'])\n",
    "for i in range(n_boxes):\n",
    "    if int(d['conf'][i]) > 60:\n",
    "        (x, y, w, h) = (d['left'][i], d['top'][i], d['width'][i], d['height'][i])\n",
    "        img = cv2.rectangle(img, (x, y), (x + w, y + h), (0, 255, 0), 2)\n",
    "\n",
    "cv2.imshow('img', img)\n",
    "cv2.waitKey(0)\n",
    "#press any key to stop execution"
   ]
  },
  {
   "cell_type": "markdown",
   "id": "4f9d3a7b",
   "metadata": {},
   "source": [
    "### Boxes around dates"
   ]
  },
  {
   "cell_type": "code",
   "execution_count": 15,
   "id": "bb747a55",
   "metadata": {},
   "outputs": [
    {
     "data": {
      "text/plain": [
       "106"
      ]
     },
     "execution_count": 15,
     "metadata": {},
     "output_type": "execute_result"
    }
   ],
   "source": [
    "import re\n",
    "\n",
    "img = cv2.imread('inv.png')\n",
    "d = pytesseract.image_to_data(img, output_type=Output.DICT)\n",
    "keys = list(d.keys())\n",
    "\n",
    "date_pattern = '^(0[1-9]|[12][0-9]|3[01])/(0[1-9]|1[012])/(19|20)\\d\\d$'\n",
    "\n",
    "n_boxes = len(d['text'])\n",
    "for i in range(n_boxes):\n",
    "    if int(d['conf'][i]) > 50:\n",
    "        if re.match(date_pattern, d['text'][i]):\n",
    "            (x, y, w, h) = (d['left'][i], d['top'][i], d['width'][i], d['height'][i])\n",
    "            img = cv2.rectangle(img, (x, y), (x + w, y + h), (0, 255, 0), 2)\n",
    "\n",
    "cv2.imshow('img', img)\n",
    "cv2.waitKey(0)"
   ]
  },
  {
   "cell_type": "markdown",
   "id": "d4abbcb2",
   "metadata": {},
   "source": [
    "### List of supported languages"
   ]
  },
  {
   "cell_type": "code",
   "execution_count": 16,
   "id": "0c8abf95",
   "metadata": {},
   "outputs": [
    {
     "name": "stdout",
     "output_type": "stream",
     "text": [
      "['afr', 'amh', 'ara', 'asm', 'aze', 'aze_cyrl', 'bel', 'ben', 'bod', 'bos', 'bre', 'bul', 'cat', 'ceb', 'ces', 'chi_sim', 'chi_sim_vert', 'chi_tra', 'chi_tra_vert', 'chr', 'cos', 'cym', 'dan', 'deu', 'div', 'dzo', 'ell', 'eng', 'enm', 'epo', 'equ', 'est', 'eus', 'fao', 'fas', 'fil', 'fin', 'fra', 'frk', 'frm', 'fry', 'gla', 'gle', 'glg', 'grc', 'guj', 'hat', 'heb', 'hin', 'hrv', 'hun', 'hye', 'iku', 'ind', 'isl', 'ita', 'ita_old', 'jav', 'jpn', 'jpn_vert', 'kan', 'kat', 'kat_old', 'kaz', 'khm', 'kir', 'kmr', 'kor', 'lao', 'lat', 'lav', 'lit', 'ltz', 'mal', 'mar', 'mkd', 'mlt', 'mon', 'mri', 'msa', 'mya', 'nep', 'nld', 'nor', 'oci', 'ori', 'osd', 'pan', 'pol', 'por', 'pus', 'que', 'ron', 'rus', 'san', 'sin', 'slk', 'slv', 'snd', 'spa', 'spa_old', 'sqi', 'srp', 'srp_latn', 'sun', 'swa', 'swe', 'syr', 'tam', 'tat', 'tel', 'tgk', 'tha', 'tir', 'ton', 'tur', 'uig', 'ukr', 'urd', 'uzb', 'uzb_cyrl', 'vie', 'yid', 'yor']\n"
     ]
    }
   ],
   "source": [
    "languages = pytesseract.get_languages(config='')\n",
    "\n",
    "print(languages)"
   ]
  },
  {
   "cell_type": "markdown",
   "id": "43de4825",
   "metadata": {},
   "source": [
    "### Detect hindi words"
   ]
  },
  {
   "cell_type": "code",
   "execution_count": 17,
   "id": "f56c7716",
   "metadata": {},
   "outputs": [
    {
     "data": {
      "text/plain": [
       "\"पूरा होता रहता है। दिन प्रतिदिन का आहार तू आज हमें दे, अपराधों को क्षमा दान कर जैसे हमने अपने अपराधी क्षमा किये। भारी कठिन परीक्षा मत ले हमें उससे बचा जो बुरा है ।'  [क्योंकि राज्य और महिमा सदा तेरी है। \""
      ]
     },
     "execution_count": 17,
     "metadata": {},
     "output_type": "execute_result"
    }
   ],
   "source": [
    "img=cv2.imread('hindi.jpg')\n",
    "\n",
    "custom_config = r'-l hin+eng --psm 6'\n",
    "pytesseract.image_to_string(img, config=custom_config).replace('\\n', ' ')"
   ]
  },
  {
   "cell_type": "markdown",
   "id": "cfc9aacf",
   "metadata": {},
   "source": [
    "### Detect language"
   ]
  },
  {
   "cell_type": "code",
   "execution_count": 18,
   "id": "4230df0d",
   "metadata": {},
   "outputs": [
    {
     "data": {
      "text/plain": [
       "[hi:0.9999978990577625]"
      ]
     },
     "execution_count": 18,
     "metadata": {},
     "output_type": "execute_result"
    }
   ],
   "source": [
    "custom_config = r'-l eng+hin --psm 6'\n",
    "txt = pytesseract.image_to_string(img, config=custom_config)\n",
    "\n",
    "from langdetect import detect_langs\n",
    "detect_langs(txt)"
   ]
  },
  {
   "cell_type": "markdown",
   "id": "c991cb9d",
   "metadata": {},
   "source": [
    "### Whitelisting (alphabets)"
   ]
  },
  {
   "cell_type": "code",
   "execution_count": 19,
   "id": "332684f5",
   "metadata": {},
   "outputs": [],
   "source": [
    "img=cv2.imread('alphanum.png')"
   ]
  },
  {
   "cell_type": "code",
   "execution_count": 20,
   "id": "28085170",
   "metadata": {},
   "outputs": [
    {
     "name": "stdout",
     "output_type": "stream",
     "text": [
      "etterrequencyletterrequency\n",
      "\n",
      "ezom\n",
      "tsoseow\n",
      "a\n",
      "ozsovomgo\n",
      "np\n",
      "szb\n",
      "h\n",
      "rsoxk\n",
      "dazsaomjo\n",
      "iaorsoxx\n",
      "czoqo\n",
      "u\n",
      "\n"
     ]
    }
   ],
   "source": [
    "#whitelist\n",
    "custom_config = r'-c tessedit_char_whitelist=abcdefghijklmnopqrstuvwxyz --psm 6'\n",
    "print(pytesseract.image_to_string(img, config=custom_config))"
   ]
  },
  {
   "cell_type": "markdown",
   "id": "18d4b729",
   "metadata": {},
   "source": [
    "### Blacklisting (numbers)"
   ]
  },
  {
   "cell_type": "code",
   "execution_count": 21,
   "id": "5ac360b0",
   "metadata": {},
   "outputs": [
    {
     "data": {
      "text/plain": [
       "'Letter Frequency Letter Frequency\\ne | z.To%|m__ | .%%|\\nt__ | s.oseo%/w | .¢%\\na\\no | zsovo%[g | .o%\\nn__ | .%[p | .%%|\\ns__| .z/%[b —|_.%\\nh\\nr_ | s.o%|k | _.%%|\\nd_ | azsao%|j | o.%\\ni | a.orso%|x | .%%|\\nc__ | zo%|q | __.o%%|\\nu\\n'"
      ]
     },
     "execution_count": 21,
     "metadata": {},
     "output_type": "execute_result"
    }
   ],
   "source": [
    "custom_config = r'-c tessedit_char_blacklist=0123456789 --psm 6'\n",
    "pytesseract.image_to_string(img, config=custom_config)"
   ]
  },
  {
   "cell_type": "markdown",
   "id": "58cdfb6d",
   "metadata": {},
   "source": [
    "### Detect only digits"
   ]
  },
  {
   "cell_type": "code",
   "execution_count": 22,
   "id": "86e17816",
   "metadata": {},
   "outputs": [
    {
     "name": "stdout",
     "output_type": "stream",
     "text": [
      "-\n",
      "12.70202.4060\n",
      "9.05602.360094\n",
      "750702.01503\n",
      "6.74901.929086\n",
      "6.32701.49209\n",
      "5.98700.772086\n",
      "425200.15308\n",
      "14.02500.150086\n",
      "2782040.095086\n",
      "\n"
     ]
    }
   ],
   "source": [
    "custom_config = r'--oem 3 --psm 6 outputbase digits'\n",
    "print(pytesseract.image_to_string(img, config=custom_config))"
   ]
  }
 ],
 "metadata": {
  "kernelspec": {
   "display_name": "Python 3 (ipykernel)",
   "language": "python",
   "name": "python3"
  },
  "language_info": {
   "codemirror_mode": {
    "name": "ipython",
    "version": 3
   },
   "file_extension": ".py",
   "mimetype": "text/x-python",
   "name": "python",
   "nbconvert_exporter": "python",
   "pygments_lexer": "ipython3",
   "version": "3.10.9"
  }
 },
 "nbformat": 4,
 "nbformat_minor": 5
}
